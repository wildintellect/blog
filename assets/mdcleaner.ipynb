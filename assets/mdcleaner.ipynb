{
 "cells": [
  {
   "cell_type": "code",
   "execution_count": 4,
   "metadata": {},
   "outputs": [],
   "source": [
    "import marko\n",
    "#https://lee-phillips.org/panflute-gnuplot/\n",
    "import panflute as pf\n",
    "test = \"../_drafts/airlinemap.md\""
   ]
  },
  {
   "cell_type": "code",
   "execution_count": 3,
   "metadata": {},
   "outputs": [
    {
     "ename": "NameError",
     "evalue": "name 'marko' is not defined",
     "output_type": "error",
     "traceback": [
      "\u001b[0;31m---------------------------------------------------------------------------\u001b[0m",
      "\u001b[0;31mNameError\u001b[0m                                 Traceback (most recent call last)",
      "\u001b[0;32m<ipython-input-3-f0b2e1b33e76>\u001b[0m in \u001b[0;36m<module>\u001b[0;34m\u001b[0m\n\u001b[1;32m      1\u001b[0m \u001b[0mtest\u001b[0m \u001b[0;34m=\u001b[0m \u001b[0;34m\"../_drafts/airlinemap.md\"\u001b[0m\u001b[0;34m\u001b[0m\u001b[0;34m\u001b[0m\u001b[0m\n\u001b[1;32m      2\u001b[0m \u001b[0;32mwith\u001b[0m \u001b[0mopen\u001b[0m\u001b[0;34m(\u001b[0m\u001b[0mtest\u001b[0m\u001b[0;34m,\u001b[0m \u001b[0;34m'r'\u001b[0m\u001b[0;34m)\u001b[0m \u001b[0;32mas\u001b[0m \u001b[0mreader\u001b[0m\u001b[0;34m:\u001b[0m\u001b[0;34m\u001b[0m\u001b[0;34m\u001b[0m\u001b[0m\n\u001b[0;32m----> 3\u001b[0;31m     \u001b[0mmarkup\u001b[0m \u001b[0;34m=\u001b[0m \u001b[0mmarko\u001b[0m\u001b[0;34m.\u001b[0m\u001b[0mparse\u001b[0m\u001b[0;34m(\u001b[0m\u001b[0mreader\u001b[0m\u001b[0;34m.\u001b[0m\u001b[0mread\u001b[0m\u001b[0;34m(\u001b[0m\u001b[0;34m)\u001b[0m\u001b[0;34m)\u001b[0m\u001b[0;34m\u001b[0m\u001b[0;34m\u001b[0m\u001b[0m\n\u001b[0m",
      "\u001b[0;31mNameError\u001b[0m: name 'marko' is not defined"
     ]
    }
   ],
   "source": [
    "\n",
    "with open(test, 'r') as reader:\n",
    "    markup = marko.parse(reader.read())"
   ]
  },
  {
   "cell_type": "code",
   "execution_count": null,
   "metadata": {},
   "outputs": [],
   "source": [
    "markup.children[0]"
   ]
  },
  {
   "cell_type": "code",
   "execution_count": 1,
   "metadata": {},
   "outputs": [],
   "source": [
    "\n"
   ]
  },
  {
   "cell_type": "code",
   "execution_count": null,
   "metadata": {},
   "outputs": [],
   "source": [
    "def action(elem, doc):\n",
    "    if isinstance(elem, pf.Header):\n",
    "        print(pf.Header)\n"
   ]
  },
  {
   "cell_type": "code",
   "execution_count": null,
   "metadata": {},
   "outputs": [],
   "source": [
    "\n",
    "pf.toJSONFilter(action)"
   ]
  },
  {
   "cell_type": "code",
   "execution_count": 53,
   "metadata": {},
   "outputs": [],
   "source": [
    "with open(test, 'r') as reader:\n",
    "    md = pf.convert_text(reader.read())"
   ]
  },
  {
   "cell_type": "code",
   "execution_count": 6,
   "metadata": {},
   "outputs": [
    {
     "data": {
      "text/plain": [
       "Header(Str(Open) Space Str(Source) Space Str(Mapping) Space Str(Workflow); level=1, identifier='open-source-mapping-workflow')"
      ]
     },
     "execution_count": 6,
     "metadata": {},
     "output_type": "execute_result"
    }
   ],
   "source": [
    "md[0]"
   ]
  },
  {
   "cell_type": "code",
   "execution_count": 15,
   "metadata": {},
   "outputs": [
    {
     "name": "stdout",
     "output_type": "stream",
     "text": [
      "ListContainer(Str(Open) Space Str(Source) Space Str(Mapping) Space Str(Workflow))\n"
     ]
    }
   ],
   "source": [
    "elem = md[0]\n",
    "if isinstance(elem, pf.Header):\n",
    "    if elem.level == 1:\n",
    "        print(elem.content)"
   ]
  },
  {
   "cell_type": "code",
   "execution_count": 34,
   "metadata": {},
   "outputs": [
    {
     "data": {
      "text/plain": [
       "Header(Str(Attachments); level=3, identifier='attachments')"
      ]
     },
     "execution_count": 34,
     "metadata": {},
     "output_type": "execute_result"
    }
   ],
   "source": [
    "elem = md[7]\n",
    "elem"
   ]
  },
  {
   "cell_type": "code",
   "execution_count": 101,
   "metadata": {},
   "outputs": [
    {
     "name": "stdout",
     "output_type": "stream",
     "text": [
      "2010-11-23\n",
      "14:58\n",
      "2010-11-23 14:58 -0700\n",
      "attachments\n",
      "ListContainer(Str(This) Space Str(quarter) Space Str(some) Space Str(students) Space Str(and) Space Str(professors) Space Str(got) Space Str(together) Space Str(to) Space Str(reinvent/recreate/re-instigate) Space RawInline(<a href=\"http://geography.ucdavis.edu/classes/2010/cartography-map-design\" class=\"ext-link\">; format='html') Str( Cartography) Space Str(at) Space Str(UC) Space Str(Davis) RawInline(</a>; format='html') Str(.) Space Str(While) Space Str(this) Space Str(isn’t) Space Str(my) Space Str(first) Space Str(Cartography) Space Str(course) Space Str(it’s) Space Str(been) Space Str(a) Space Str(bit) Space Str(more) Space Str(realistic) Space Str(in) Space Str(terms) Space Str(of) Space Str(applying) Space Str(the) Space Str(ideas) Space Str(to) Space Str(making) Space Str(maps.))\n",
      "ListContainer(Str(Below) Space Str(is) Space Str(an) Space Str(example) Space Str(of) Space Str(mine,) Space Str(showing) Space Str(the) Space Str(possibilities) Space Str(of) Space Str(an) Space Str(Open) Space Str(Source) Space Str(cartographic) Space Str(workflow.) Space Str(I) Space Str(used) Space RawInline(<a href=\"http://www.gaia-gis.it/spatialite/\" class=\"ext-link\">; format='html') Str( Spatialite) RawInline(</a>; format='html') Space Str(to) Space Str(crunch) Space Str(the) Space Str(data,) Space RawInline(<a href=\"http://qgis.org\" class=\"ext-link\">; format='html') Str( QGIS) RawInline(</a>; format='html') Space Str(to) Space Str(prep) Space Str(and) Space RawInline(<a href=\"http://inkscape.org\" class=\"ext-link\">; format='html') Str( Inkscape) RawInline(</a>; format='html') Space Str(to) Space Str(Polish.))\n",
      "ListContainer(Str(It’s) Space Str(a) Space Str(semi-ficticous) Space Str(map) Space Str(showing) Space Str(major) Space Str(air) Space Str(routes) Space Str(that) Space Str(cross) Space Str(the) Space Str(Arctic) Space Str(Circle) Space Str(using) Space Str(data) Space Str(from) Space RawInline(<a href=\"http://OpenFlights.org\" class=\"ext-link\">; format='html') Str( http://OpenFlights.org) RawInline(</a>; format='html') Space Str(and) Space Str(a) Space Str(background) Space Str(map) Space Str(from) Space RawInline(<a href=\"http://NaturalEarthData.com\" class=\"ext-link\">; format='html') Str( http://NaturalEarthData.com) RawInline(</a>; format='html'))\n",
      "ListContainer(Link(RawInline(<img src=\"../raw-attachment/blog/airlinemap/airlinefixed.png\" width=\"600\" />; format='html'); url='../attachment/blog/airlinemap/airlinefixed.png.html'))\n",
      "ListContainer(Str(I’ll) Space Str(link) Space Str(to) Space Str(the) Space Str(full) Space Str(pdf) Space Str(later.) Space Str(Creative) Space Str(Commons) Space Str(license) Space Str(in) Space Str(the) Space Str(footer) Space Str(applies.))\n",
      "ListContainer(Str(No) Space Str(comments.))\n"
     ]
    }
   ],
   "source": [
    "def remove_action(elem, doc):\n",
    "    return []\n",
    "\n",
    "def action(elem):\n",
    "    altered = elem.walk(remove_action)\n",
    "    return altered\n",
    "\n",
    "def set_date(elem, doc):\n",
    "    if isinstance(elem, pf.Str):\n",
    "        keyword = \"Posted:\"\n",
    "        #print(elem.text)\n",
    "        if elem.text == keyword:\n",
    "            print(elem.next.next.text)\n",
    "            print(elem.next.next.next.next.text)\n",
    "            #\"-0700\")])\n",
    "            print(\" \".join([\n",
    "                elem.next.next.text\n",
    "                ,elem.next.next.next.next.text\n",
    "                ,\"-0700\"]))\n",
    "           \n",
    "\n",
    "for elem in md:\n",
    "    if isinstance(elem, pf.BulletList):\n",
    "        elem.walk(set_date)\n",
    "        \n",
    "for elem in md:\n",
    "    if isinstance(elem, pf.Header) and elem.identifier == 'attachments':\n",
    "        print(elem.identifier)\n",
    "        \n",
    "for elem in md:\n",
    "    if isinstance(elem, pf.Para):\n",
    "        print(elem.content)"
   ]
  },
  {
   "cell_type": "code",
   "execution_count": null,
   "metadata": {},
   "outputs": [],
   "source": [
    "def behead(key, value, format, meta):\n",
    "    if key == \"Header\" and value[0] == 1 and \"title\" not in meta:\n",
    "        meta[\"title\"] = {\"t\": \"MetaInlines\", \"c\": value[2]}\n",
    "        return Null()\n",
    "\n",
    "\n",
    "if __name__ == \"__main__\":\n",
    "    toJSONFilter(behead)"
   ]
  },
  {
   "cell_type": "code",
   "execution_count": 110,
   "metadata": {},
   "outputs": [],
   "source": [
    "with open(fpath) as f:\n",
    "    content = f.readlines()\n",
    "\n",
    "index = [x for x in range(len(content)) if 'posted' in content[x].lower()]\n",
    "\n",
    "subset = content[0:index[0]]\n",
    "\n",
    "with open(fpath) as f:\n",
    "    f.writelines(subset)"
   ]
  },
  {
   "cell_type": "code",
   "execution_count": 120,
   "metadata": {},
   "outputs": [
    {
     "name": "stdout",
     "output_type": "stream",
     "text": [
      "2010-11-23\n",
      "airlinemap.md\n",
      "../_drafts/2010-11-23-airlinemap.md\n"
     ]
    }
   ],
   "source": [
    "import frontmatter\n",
    "import os\n",
    "\n",
    "with open(test) as f:\n",
    "    post = frontmatter.load(f)\n",
    "    date = post['date'].split(\" \")[0]\n",
    "    print(date)\n",
    "    print(os.path.basename(test))\n",
    "\n",
    "newname = \"-\".join([date, os.path.basename(test)])\n",
    "newpath = os.path.join(os.path.dirname(test), newname)\n",
    "print(newpath)\n",
    "#os.rename(test, newpath)"
   ]
  },
  {
   "cell_type": "code",
   "execution_count": null,
   "metadata": {},
   "outputs": [],
   "source": []
  }
 ],
 "metadata": {
  "kernelspec": {
   "display_name": "Python [conda env:markdown]",
   "language": "python",
   "name": "conda-env-markdown-py"
  },
  "language_info": {
   "codemirror_mode": {
    "name": "ipython",
    "version": 3
   },
   "file_extension": ".py",
   "mimetype": "text/x-python",
   "name": "python",
   "nbconvert_exporter": "python",
   "pygments_lexer": "ipython3",
   "version": "3.8.5"
  }
 },
 "nbformat": 4,
 "nbformat_minor": 4
}
